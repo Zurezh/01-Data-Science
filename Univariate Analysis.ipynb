{
 "cells": [
  {
   "cell_type": "markdown",
   "metadata": {},
   "source": [
    "# Univariate Analysis\n",
    "\n",
    "##### The types of variables\n",
    "Broadly speaking, you will encounter two types of variables in your data: \n",
    "1. Categorical variables:\n",
    "\n",
    "\n",
    "- These have values in the form of string or text\n",
    "- These even include values like dates, sex and so on\n",
    "\n",
    "\n",
    "\n",
    "2. Numerical variables:\n",
    "\n",
    "\n",
    "- These have numerical values like age, stock value, and so on\n",
    "- Basically, any value that you can be measured\n",
    "\n",
    "#### Categorical Variables\n",
    "Categorical values can be further divided into two types.\n",
    "1. Nominal variables\n",
    "\n",
    "\n",
    "- Simply put, these are values which have no order amongst them, that is no value is greater than the other or can be arranged in any oder with respect to one another.\n",
    "- For example, sex, weather, country and so on.\n",
    "\n",
    "\n",
    "2. Ordinal Variables:\n",
    "\n",
    "\n",
    "- These categorical variables can be arranged in some order with respect to one another\n",
    "- For example, rank in competition, education level, and so on\n",
    "\n",
    "#### Numerical Variables\n",
    "Numberical variables can be further divided into:\n",
    "\n",
    "\n",
    "1. Continuous Variable\n",
    "\n",
    "\n",
    "- These have infinite values\n",
    "- For example, height, weight, age, and so on\n",
    "\n",
    "\n",
    "2. Discrete Variable\n",
    "\n",
    "\n",
    "- These have finite values\n",
    "- For example, the number of gold medals won by an athlete and so on."
   ]
  },
  {
   "cell_type": "markdown",
   "metadata": {},
   "source": [
    "##### Dataset Used: Titanic : https://www.kaggle.com/c/titanic\n",
    "\n",
    "This dataset basically includes infomation regarding all the passengers on Titanic. Various attributes of passengers like age, sex, class, etc. is recorded and final label 'survived' determines whether or the passenger survived or not.\n",
    "\n",
    "##### Columns\n",
    "Survived: Outcome of s........"
   ]
  },
  {
   "cell_type": "code",
   "execution_count": null,
   "metadata": {},
   "outputs": [],
   "source": [
    "import pandas as pd\n",
    "td = pd.read_csv('train.csv',index_col=0)"
   ]
  },
  {
   "cell_type": "code",
   "execution_count": null,
   "metadata": {},
   "outputs": [],
   "source": [
    "td.head()"
   ]
  },
  {
   "cell_type": "code",
   "execution_count": null,
   "metadata": {},
   "outputs": [],
   "source": [
    "td.describe()"
   ]
  },
  {
   "cell_type": "code",
   "execution_count": null,
   "metadata": {},
   "outputs": [],
   "source": [
    "td.columns"
   ]
  },
  {
   "cell_type": "markdown",
   "metadata": {},
   "source": [
    "## Numerical Variables\n",
    "1. Age\n",
    "2. SibSp\n",
    "3. Parch\n",
    "4. Pair"
   ]
  },
  {
   "cell_type": "code",
   "execution_count": null,
   "metadata": {},
   "outputs": [],
   "source": [
    "td['Age']"
   ]
  },
  {
   "cell_type": "code",
   "execution_count": null,
   "metadata": {},
   "outputs": [],
   "source": [
    "# It does not make sense to use unique\n",
    "td['Age'].unique()"
   ]
  },
  {
   "cell_type": "code",
   "execution_count": null,
   "metadata": {},
   "outputs": [],
   "source": [
    "td['Fare']"
   ]
  },
  {
   "cell_type": "markdown",
   "metadata": {},
   "source": [
    "#### Age and Fare is continuous variable"
   ]
  },
  {
   "cell_type": "code",
   "execution_count": null,
   "metadata": {},
   "outputs": [],
   "source": [
    "td['SibSp'].unique()"
   ]
  },
  {
   "cell_type": "code",
   "execution_count": null,
   "metadata": {},
   "outputs": [],
   "source": [
    "td['Parch'].unique()"
   ]
  },
  {
   "cell_type": "markdown",
   "metadata": {},
   "source": [
    "#### Parch and SibSp is discrete variables"
   ]
  },
  {
   "cell_type": "markdown",
   "metadata": {},
   "source": [
    "## Categorical Variables\n",
    "\n",
    "1. Name\n",
    "2. Cabin\n",
    "3. Sex\n",
    "4. Embarked\n",
    "5. Survived\n",
    "6. Pclass"
   ]
  },
  {
   "cell_type": "markdown",
   "metadata": {},
   "source": [
    "### Nominal Values"
   ]
  },
  {
   "cell_type": "code",
   "execution_count": null,
   "metadata": {},
   "outputs": [],
   "source": [
    "td['Sex'].unique()"
   ]
  },
  {
   "cell_type": "code",
   "execution_count": null,
   "metadata": {},
   "outputs": [],
   "source": [
    "td['Name'].unique()"
   ]
  },
  {
   "cell_type": "code",
   "execution_count": null,
   "metadata": {},
   "outputs": [],
   "source": [
    "td['Cabin'].unique()"
   ]
  },
  {
   "cell_type": "code",
   "execution_count": null,
   "metadata": {},
   "outputs": [],
   "source": [
    "td['Embarked'].unique()"
   ]
  },
  {
   "cell_type": "code",
   "execution_count": null,
   "metadata": {},
   "outputs": [],
   "source": [
    "td['Survived'].unique()"
   ]
  },
  {
   "cell_type": "markdown",
   "metadata": {},
   "source": [
    "### Ordinal Variable"
   ]
  },
  {
   "cell_type": "code",
   "execution_count": null,
   "metadata": {},
   "outputs": [],
   "source": [
    "td['Pclass'].unique()"
   ]
  },
  {
   "cell_type": "markdown",
   "metadata": {},
   "source": [
    "### What is Univariate Analysis\n",
    "- Analysis of a single variable in your data\n",
    "- A variable can be a column in your dataset (or even a category under which your data falls into)\n",
    "- We can use various graphs like:\n",
    "\n",
    "\n",
    "1. Histograms\n",
    "2. Bar charts\n",
    "3. Density Plots\n",
    "4. Distribution plots, and so on"
   ]
  },
  {
   "cell_type": "code",
   "execution_count": null,
   "metadata": {},
   "outputs": [],
   "source": [
    "import pandas as pd\n",
    "import numpy as np\n",
    "from matplotlib import pyplot as plt\n",
    "import seaborn as sns\n",
    "%matplotlib inline"
   ]
  },
  {
   "cell_type": "code",
   "execution_count": null,
   "metadata": {},
   "outputs": [],
   "source": [
    "dummy_age_list = [12,22,36,42,15,89,42,65,29,6,35,81,90,51,53,53,22,31,75,5]\n",
    "dummy_sex_list = ['Male','Female','Female','Other','Male','Other','Female','Female','Male','Female','Female','Other','Male','Female','Male','Female','Male','Female','Male','Other']\n",
    "age_sex_df = pd.DataFrame({'Age':dummy_age_list,'Sex':dummy_sex_list})"
   ]
  },
  {
   "cell_type": "code",
   "execution_count": null,
   "metadata": {},
   "outputs": [],
   "source": [
    "age_sex_df"
   ]
  },
  {
   "cell_type": "markdown",
   "metadata": {},
   "source": [
    "## Histogram"
   ]
  },
  {
   "cell_type": "code",
   "execution_count": null,
   "metadata": {},
   "outputs": [],
   "source": [
    "plt.figure()\n",
    "age_sex_df['Age'].hist()"
   ]
  },
  {
   "cell_type": "markdown",
   "metadata": {},
   "source": [
    "## Bar Charts\n",
    "### You can also use Seaborn library for visualization\n",
    "link: https://seaborn.pydata.org"
   ]
  },
  {
   "cell_type": "code",
   "execution_count": null,
   "metadata": {},
   "outputs": [],
   "source": [
    "sns.set(style='darkgrid')\n",
    "ax = sns.countplot(x='Sex',data=age_sex_df)"
   ]
  },
  {
   "cell_type": "code",
   "execution_count": null,
   "metadata": {},
   "outputs": [],
   "source": [
    "maths_marks = [20,18,15,25,17,16]\n",
    "science_marks = [14,16,20,15,15,12]\n",
    "english_marks = [20,18,10,15,25,10]\n",
    "marks_df = pd.DataFrame({'Maths': maths_marks,'Science':science_marks,'English':english_marks})"
   ]
  },
  {
   "cell_type": "code",
   "execution_count": null,
   "metadata": {},
   "outputs": [],
   "source": [
    "marks_df"
   ]
  },
  {
   "cell_type": "code",
   "execution_count": null,
   "metadata": {},
   "outputs": [],
   "source": [
    "marks_df.plot.bar()"
   ]
  },
  {
   "cell_type": "code",
   "execution_count": null,
   "metadata": {},
   "outputs": [],
   "source": [
    "marks_df.plot.density()"
   ]
  },
  {
   "cell_type": "markdown",
   "metadata": {},
   "source": [
    "## Box Plot"
   ]
  },
  {
   "cell_type": "code",
   "execution_count": null,
   "metadata": {},
   "outputs": [],
   "source": [
    "age_sex_df.boxplot()"
   ]
  },
  {
   "cell_type": "code",
   "execution_count": null,
   "metadata": {},
   "outputs": [],
   "source": [
    "marks_df.boxplot()"
   ]
  },
  {
   "attachments": {
    "Kurtosis.PNG": {
     "image/png": "[encoded data removed]"
    },
    "Skewness.PNG": {
     "image/png": "[encoded data removed]"
    }
   },
   "cell_type": "markdown",
   "metadata": {},
   "source": [
    "# Skewness and Kurtosis\n",
    "1. What is skewness: \n",
    "\n",
    "\n",
    "- Is a measure of asymetry of a distribution\n",
    "- A measure of how much it differs from a normal distribution\n",
    "- A normal distribution has skewness of 0\n",
    "- If skewness is +ve, distribution is skewed to right and tail on left hand side is no longer than the one on right hand side.\n",
    "- If skewness is -ve, distribution is skewed to left and tail on right hand side is longer than the one on left hand side.\n",
    "   \n",
    "![Skewness.PNG](attachment:Skewness.PNG)\n",
    "   \n",
    "2. What is Kurtosis\n",
    "\n",
    "\n",
    "- It is measure of the degree of tailedness of a distribution\n",
    "- It can also be though of as a measure of sharpness of a curve with respect to a normal distribution\n",
    "- It identifies how values are clustered around the central tendency\n",
    "\n",
    "![Kurtosis.PNG](attachment:Kurtosis.PNG)"
   ]
  },
  {
   "cell_type": "markdown",
   "metadata": {},
   "source": [
    "### Univariate Analysis for Olympics Dataset\n",
    "\n",
    "\n",
    "Data Set: https://www.kaggle.com/heesoo37/120-years-of-olympic-history-athletes-and-results"
   ]
  },
  {
   "cell_type": "code",
   "execution_count": null,
   "metadata": {},
   "outputs": [],
   "source": [
    "import pandas as pd\n",
    "import numpy as np\n",
    "import matplotlib.pyplot as plt\n",
    "import seaborn as sns"
   ]
  },
  {
   "cell_type": "code",
   "execution_count": null,
   "metadata": {},
   "outputs": [],
   "source": [
    "athletes_df = pd.read_csv('athlete_events.csv')\n",
    "regions_df = pd.read_csv('noc_regions.csv')\n",
    "data_df = pd.merge(athletes_df,regions_df,on='NOC',how='left')"
   ]
  },
  {
   "cell_type": "code",
   "execution_count": null,
   "metadata": {},
   "outputs": [],
   "source": [
    "data_df.head()"
   ]
  },
  {
   "cell_type": "code",
   "execution_count": null,
   "metadata": {},
   "outputs": [],
   "source": [
    "data_df.columns"
   ]
  },
  {
   "cell_type": "code",
   "execution_count": null,
   "metadata": {},
   "outputs": [],
   "source": [
    "data_df.info()"
   ]
  },
  {
   "cell_type": "code",
   "execution_count": null,
   "metadata": {},
   "outputs": [],
   "source": [
    "data_df.describe()"
   ]
  },
  {
   "cell_type": "code",
   "execution_count": null,
   "metadata": {},
   "outputs": [],
   "source": [
    "sns.distplot(data_df['Age'])"
   ]
  },
  {
   "cell_type": "code",
   "execution_count": null,
   "metadata": {},
   "outputs": [],
   "source": [
    "age_df = data_df['Age']\n",
    "age_df = pd.to_numeric(data_df['Age'],errors='coerce')\n",
    "age_df = age_df.dropna()\n",
    "age_df = age_df.astype(int)"
   ]
  },
  {
   "cell_type": "code",
   "execution_count": null,
   "metadata": {},
   "outputs": [],
   "source": [
    "sns.countplot(age_df)"
   ]
  },
  {
   "cell_type": "code",
   "execution_count": null,
   "metadata": {},
   "outputs": [],
   "source": [
    "data_df.loc[data_df['Medal'].isnull()]"
   ]
  },
  {
   "cell_type": "code",
   "execution_count": null,
   "metadata": {},
   "outputs": [],
   "source": [
    "medalists_df = data_df.loc[~data_df['Medal'].isnull()]"
   ]
  },
  {
   "cell_type": "code",
   "execution_count": null,
   "metadata": {},
   "outputs": [],
   "source": [
    "medalists_df"
   ]
  },
  {
   "cell_type": "code",
   "execution_count": null,
   "metadata": {},
   "outputs": [],
   "source": [
    "def plot_column(my_df,col,chart_type='Histogram',dtype=int,bin_size=25):\n",
    "    temp_df = pd.to_numeric(my_df[col],errors='coerce')\n",
    "    temp_df = temp_df.dropna()\n",
    "    temp_df = temp_df.astype(dtype)\n",
    "    if chart_type == 'Histogram':\n",
    "        ax = sns.countplot(temp_df)\n",
    "    elif chart_type =='Density':\n",
    "        ax = sns.distplot(temp_df)\n",
    "    xmin,xmax = ax.get_xlim()\n",
    "    ax.set_xticks(np.round(np.linspace(xmin,xmax,bin_size),2))\n",
    "    plt.tight_layout()\n",
    "    plt.locator_params(axis='y',nbins=6)\n",
    "    plt.show()"
   ]
  },
  {
   "cell_type": "code",
   "execution_count": null,
   "metadata": {},
   "outputs": [],
   "source": [
    "plot_column(medalists_df,'Age')"
   ]
  },
  {
   "cell_type": "markdown",
   "metadata": {},
   "source": [
    "### Calculate Skewness"
   ]
  },
  {
   "cell_type": "code",
   "execution_count": null,
   "metadata": {},
   "outputs": [],
   "source": [
    "from scipy.stats import skew\n",
    "age_df = pd.to_numeric(medalists_df['Age'],errors='coerce')\n",
    "age_df = age_df.dropna()\n",
    "age_df = age_df.astype(int)\n",
    "print('Skewness is {}'.format(skew(age_df)))\n",
    "print('Mean is {}'.format(np.mean(age_df)))\n",
    "print('Median is {}'.format(np.median(age_df)))"
   ]
  },
  {
   "cell_type": "code",
   "execution_count": null,
   "metadata": {},
   "outputs": [],
   "source": [
    "plot_column(medalists_df,'Height',bin_size=15)"
   ]
  },
  {
   "cell_type": "code",
   "execution_count": null,
   "metadata": {},
   "outputs": [],
   "source": [
    "height_df = pd.to_numeric(medalists_df['Height'],errors='coerce')\n",
    "height_df = height_df.dropna()\n",
    "height_df = height_df.astype(int)\n",
    "print('Skewness is {}'.format(skew(height_df)))\n",
    "print('Mean is {}'.format(np.mean(height_df)))\n",
    "print('Median is {}'.format(np.median(height_df)))"
   ]
  },
  {
   "cell_type": "code",
   "execution_count": null,
   "metadata": {
    "scrolled": true
   },
   "outputs": [],
   "source": [
    "plot_column(medalists_df,'Weight',bin_size=15)"
   ]
  },
  {
   "cell_type": "code",
   "execution_count": null,
   "metadata": {},
   "outputs": [],
   "source": [
    "weight_df = pd.to_numeric(medalists_df['Weight'],errors='coerce')\n",
    "weight_df = weight_df.dropna()\n",
    "weight_df = weight_df.astype(int)\n",
    "print('Skewness is {}'.format(skew(weight_df)))\n",
    "print('Mean is {}'.format(np.mean(weight_df)))\n",
    "print('Median is {}'.format(np.median(weight_df)))"
   ]
  },
  {
   "cell_type": "code",
   "execution_count": null,
   "metadata": {},
   "outputs": [],
   "source": [
    "sports_df = medalists_df[~medalists_df['Sport'].isnull()]\n",
    "sns.countplot(medalists_df['Sport'])"
   ]
  },
  {
   "cell_type": "code",
   "execution_count": null,
   "metadata": {},
   "outputs": [],
   "source": [
    "sum(medalists_df['Sport'].isnull())"
   ]
  },
  {
   "cell_type": "code",
   "execution_count": null,
   "metadata": {},
   "outputs": [],
   "source": [
    "sports_count = medalists_df['Sport'].value_counts().nlargest(25).to_frame()"
   ]
  },
  {
   "cell_type": "code",
   "execution_count": null,
   "metadata": {},
   "outputs": [],
   "source": [
    "print(sports_count)"
   ]
  },
  {
   "cell_type": "code",
   "execution_count": null,
   "metadata": {},
   "outputs": [],
   "source": [
    "ax = sports_count.plot.bar(y='Sport')\n",
    "ax.get_legend().remove()"
   ]
  },
  {
   "cell_type": "code",
   "execution_count": null,
   "metadata": {},
   "outputs": [],
   "source": [
    "year_count_df = data_df['Year'].value_counts().to_frame()"
   ]
  },
  {
   "cell_type": "code",
   "execution_count": null,
   "metadata": {},
   "outputs": [],
   "source": [
    "year_count_df.sort_index(inplace = True)\n",
    "ax = year_count_df.plot.bar(y='Year')\n",
    "ax.get_legend().remove()"
   ]
  },
  {
   "cell_type": "code",
   "execution_count": null,
   "metadata": {},
   "outputs": [],
   "source": []
  },
  {
   "cell_type": "code",
   "execution_count": null,
   "metadata": {},
   "outputs": [],
   "source": []
  }
 ],
 "metadata": {
  "kernelspec": {
   "display_name": "Python 3",
   "language": "python",
   "name": "python3"
  },
  "language_info": {
   "codemirror_mode": {
    "name": "ipython",
    "version": 3
   },
   "file_extension": ".py",
   "mimetype": "text/x-python",
   "name": "python",
   "nbconvert_exporter": "python",
   "pygments_lexer": "ipython3",
   "version": "3.7.0"
  }
 },
 "nbformat": 4,
 "nbformat_minor": 2
}
